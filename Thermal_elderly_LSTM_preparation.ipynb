{
 "cells": [
  {
   "cell_type": "code",
   "execution_count": 16,
   "metadata": {},
   "outputs": [],
   "source": [
    "import pandas as pd\n",
    "from scipy import integrate\n",
    "from statsmodels.tsa.stattools import grangercausalitytests\n",
    "from statsmodels.tsa.tsatools import detrend\n",
    "from statsmodels.tsa.vector_ar.vecm import coint_johansen\n",
    "\n",
    "#Import data & transfer timestamp to datetime\n",
    "#tweets_df = pd.read_csv(\"Downloads/results_tweet.csv\", encoding=\"unicode_escape\",sep=\",\")\n",
    "bedroom_df = pd.read_csv(\"Downloads/Bedroom_data.csv\", encoding=\"unicode_escape\",sep=\",\")\n",
    "bedroom_df = bedroom_df.iloc[:4007]"
   ]
  },
  {
   "cell_type": "code",
   "execution_count": 17,
   "metadata": {},
   "outputs": [],
   "source": [
    "lr_df = pd.read_csv(\"Downloads/living_room_data.csv\", encoding=\"unicode_escape\",sep=\",\")\n",
    "lr_df = lr_df.iloc[:4007]\n",
    "pmv_17 = pd.read_csv(\"PMV_TSV_2017.csv\", encoding=\"unicode_escape\",sep=\",\")\n",
    "pmv_18= pd.read_csv(\"PMV and TSV.csv\", encoding=\"unicode_escape\",sep=\",\")"
   ]
  },
  {
   "cell_type": "code",
   "execution_count": 18,
   "metadata": {},
   "outputs": [],
   "source": [
    "pmv_17 = pmv_17.loc[1:]\n",
    "pmv_17 = pmv_17.rename({\"November\": \"November16-PMV\", \"Unnamed: 2\": \"November16-TSV\", \"December\": \"December16-PMV\",\n",
    "                       \"Unnamed: 4\": \"December16-TSV\", \"January\": \"January17-PMV\", \n",
    "                       \"Unnamed: 6\": \"January17-TSV\", \"February\": \"February17-PMV\", \"Unnamed: 8\": \"February17-TSV\",\n",
    "                        \"March\": \"March17-PMV\", \"Unnamed: 10\": \"March17-TSV\"}, axis=1)"
   ]
  },
  {
   "cell_type": "code",
   "execution_count": 336,
   "metadata": {},
   "outputs": [],
   "source": [
    "pmv_18= pd.read_csv(\"PMV and TSV.csv\", encoding=\"unicode_escape\",sep=\",\")\n",
    "pmv_18 = pmv_18.rename({\"December\": \"December17-PMV\",\n",
    "                       \"Unnamed: 2\": \"December17-TSV\", \"January\": \"January18-PMV\", \n",
    "                       \"Unnamed: 4\": \"January18-TSV\", \"February\": \"February18-PMV\", \"Unnamed: 6\": \"February18-TSV\",\n",
    "                        \"March\": \"March18-PMV\", \"Unnamed: 8\": \"March18-TSV\"}, axis=1)\n",
    "pmv_18 = pmv_18.iloc[1:]\n"
   ]
  },
  {
   "cell_type": "code",
   "execution_count": 20,
   "metadata": {},
   "outputs": [],
   "source": [
    "pmv_17_new = pmv_17.copy()"
   ]
  },
  {
   "cell_type": "code",
   "execution_count": 21,
   "metadata": {},
   "outputs": [],
   "source": [
    "pmv_17_new = pmv_17.astype(str).astype(float)\n",
    "pmv_17_new.fillna((pmv_17.mean()), inplace=True)"
   ]
  },
  {
   "cell_type": "code",
   "execution_count": 8,
   "metadata": {},
   "outputs": [
    {
     "data": {
      "text/html": [
       "<div>\n",
       "<style scoped>\n",
       "    .dataframe tbody tr th:only-of-type {\n",
       "        vertical-align: middle;\n",
       "    }\n",
       "\n",
       "    .dataframe tbody tr th {\n",
       "        vertical-align: top;\n",
       "    }\n",
       "\n",
       "    .dataframe thead th {\n",
       "        text-align: right;\n",
       "    }\n",
       "</style>\n",
       "<table border=\"1\" class=\"dataframe\">\n",
       "  <thead>\n",
       "    <tr style=\"text-align: right;\">\n",
       "      <th></th>\n",
       "      <th>ID</th>\n",
       "      <th>November16-PMV</th>\n",
       "      <th>November16-TSV</th>\n",
       "      <th>December16-PMV</th>\n",
       "      <th>December16-TSV</th>\n",
       "      <th>January17-PMV</th>\n",
       "      <th>January17-TSV</th>\n",
       "      <th>February17-PMV</th>\n",
       "      <th>February17-TSV</th>\n",
       "      <th>March17-PMV</th>\n",
       "      <th>March17-TSV</th>\n",
       "    </tr>\n",
       "  </thead>\n",
       "  <tbody>\n",
       "    <tr>\n",
       "      <th>1</th>\n",
       "      <td>1.0</td>\n",
       "      <td>-3.388</td>\n",
       "      <td>3.0</td>\n",
       "      <td>-3.183</td>\n",
       "      <td>1.0</td>\n",
       "      <td>-3.647</td>\n",
       "      <td>0.0</td>\n",
       "      <td>-3.894</td>\n",
       "      <td>1.0</td>\n",
       "      <td>-3.275</td>\n",
       "      <td>1.0</td>\n",
       "    </tr>\n",
       "    <tr>\n",
       "      <th>2</th>\n",
       "      <td>2.0</td>\n",
       "      <td>-1.524</td>\n",
       "      <td>-1.0</td>\n",
       "      <td>-1.088</td>\n",
       "      <td>1.0</td>\n",
       "      <td>-0.908</td>\n",
       "      <td>1.0</td>\n",
       "      <td>-1.285</td>\n",
       "      <td>-1.0</td>\n",
       "      <td>-2.347</td>\n",
       "      <td>-1.0</td>\n",
       "    </tr>\n",
       "    <tr>\n",
       "      <th>3</th>\n",
       "      <td>4.0</td>\n",
       "      <td>-1.240</td>\n",
       "      <td>0.0</td>\n",
       "      <td>-1.188</td>\n",
       "      <td>0.0</td>\n",
       "      <td>-1.962</td>\n",
       "      <td>-2.0</td>\n",
       "      <td>-1.207</td>\n",
       "      <td>0.0</td>\n",
       "      <td>-1.050</td>\n",
       "      <td>0.0</td>\n",
       "    </tr>\n",
       "    <tr>\n",
       "      <th>4</th>\n",
       "      <td>5.0</td>\n",
       "      <td>-1.864</td>\n",
       "      <td>-1.0</td>\n",
       "      <td>-1.519</td>\n",
       "      <td>1.0</td>\n",
       "      <td>-1.401</td>\n",
       "      <td>1.0</td>\n",
       "      <td>-1.719</td>\n",
       "      <td>0.0</td>\n",
       "      <td>-1.912</td>\n",
       "      <td>-1.0</td>\n",
       "    </tr>\n",
       "    <tr>\n",
       "      <th>5</th>\n",
       "      <td>9.0</td>\n",
       "      <td>-1.385</td>\n",
       "      <td>0.0</td>\n",
       "      <td>-1.502</td>\n",
       "      <td>0.0</td>\n",
       "      <td>-2.060</td>\n",
       "      <td>-1.0</td>\n",
       "      <td>-2.150</td>\n",
       "      <td>-1.0</td>\n",
       "      <td>-2.150</td>\n",
       "      <td>-1.0</td>\n",
       "    </tr>\n",
       "  </tbody>\n",
       "</table>\n",
       "</div>"
      ],
      "text/plain": [
       "    ID  November16-PMV  November16-TSV  December16-PMV  December16-TSV  \\\n",
       "1  1.0          -3.388             3.0          -3.183             1.0   \n",
       "2  2.0          -1.524            -1.0          -1.088             1.0   \n",
       "3  4.0          -1.240             0.0          -1.188             0.0   \n",
       "4  5.0          -1.864            -1.0          -1.519             1.0   \n",
       "5  9.0          -1.385             0.0          -1.502             0.0   \n",
       "\n",
       "   January17-PMV  January17-TSV  February17-PMV  February17-TSV  March17-PMV  \\\n",
       "1         -3.647            0.0          -3.894             1.0       -3.275   \n",
       "2         -0.908            1.0          -1.285            -1.0       -2.347   \n",
       "3         -1.962           -2.0          -1.207             0.0       -1.050   \n",
       "4         -1.401            1.0          -1.719             0.0       -1.912   \n",
       "5         -2.060           -1.0          -2.150            -1.0       -2.150   \n",
       "\n",
       "   March17-TSV  \n",
       "1          1.0  \n",
       "2         -1.0  \n",
       "3          0.0  \n",
       "4         -1.0  \n",
       "5         -1.0  "
      ]
     },
     "execution_count": 8,
     "metadata": {},
     "output_type": "execute_result"
    }
   ],
   "source": [
    "pmv_17_new.head()"
   ]
  },
  {
   "cell_type": "code",
   "execution_count": 337,
   "metadata": {},
   "outputs": [],
   "source": [
    "pmv_18_full = pmv_18.copy()\n",
    "pmv_18_full = pmv_18_full.astype(str).astype(float)\n",
    "pmv_18_full.fillna((pmv_18_full.mean()), inplace=True)"
   ]
  },
  {
   "cell_type": "code",
   "execution_count": 23,
   "metadata": {},
   "outputs": [],
   "source": [
    "bedroom_df = bedroom_df.drop(\"ID27\",axis=1)"
   ]
  },
  {
   "cell_type": "code",
   "execution_count": 24,
   "metadata": {},
   "outputs": [],
   "source": [
    "bedroom_df2 = bedroom_df.copy()"
   ]
  },
  {
   "cell_type": "code",
   "execution_count": 25,
   "metadata": {},
   "outputs": [],
   "source": [
    "x = bedroom_df2.loc[:, \"ID1\":\"ID43\"]\n",
    "x = x.astype(str).astype(float)\n",
    "x = x.fillna(x.mean())"
   ]
  },
  {
   "cell_type": "code",
   "execution_count": 13,
   "metadata": {},
   "outputs": [],
   "source": [
    "X = x.T"
   ]
  },
  {
   "cell_type": "code",
   "execution_count": 26,
   "metadata": {},
   "outputs": [],
   "source": [
    "x = pd.concat((bedroom_df2.Timestamp, x), axis = 1)"
   ]
  },
  {
   "cell_type": "code",
   "execution_count": 474,
   "metadata": {},
   "outputs": [],
   "source": [
    "x_mar18 = x[x[\"Timestamp\"].str.contains(\"03/2018\")]"
   ]
  },
  {
   "cell_type": "code",
   "execution_count": 29,
   "metadata": {},
   "outputs": [
    {
     "data": {
      "text/html": [
       "<div>\n",
       "<style scoped>\n",
       "    .dataframe tbody tr th:only-of-type {\n",
       "        vertical-align: middle;\n",
       "    }\n",
       "\n",
       "    .dataframe tbody tr th {\n",
       "        vertical-align: top;\n",
       "    }\n",
       "\n",
       "    .dataframe thead th {\n",
       "        text-align: right;\n",
       "    }\n",
       "</style>\n",
       "<table border=\"1\" class=\"dataframe\">\n",
       "  <thead>\n",
       "    <tr style=\"text-align: right;\">\n",
       "      <th></th>\n",
       "      <th>ID</th>\n",
       "      <th>November 2016</th>\n",
       "      <th>December 2016</th>\n",
       "      <th>January 2017</th>\n",
       "      <th>February 2017</th>\n",
       "      <th>March 2017</th>\n",
       "    </tr>\n",
       "  </thead>\n",
       "  <tbody>\n",
       "    <tr>\n",
       "      <th>1</th>\n",
       "      <td>1.0</td>\n",
       "      <td>3</td>\n",
       "      <td>1</td>\n",
       "      <td>0</td>\n",
       "      <td>1</td>\n",
       "      <td>1</td>\n",
       "    </tr>\n",
       "    <tr>\n",
       "      <th>2</th>\n",
       "      <td>2.0</td>\n",
       "      <td>-1</td>\n",
       "      <td>1</td>\n",
       "      <td>1</td>\n",
       "      <td>-1</td>\n",
       "      <td>-1</td>\n",
       "    </tr>\n",
       "    <tr>\n",
       "      <th>3</th>\n",
       "      <td>4.0</td>\n",
       "      <td>0</td>\n",
       "      <td>0</td>\n",
       "      <td>-2</td>\n",
       "      <td>0</td>\n",
       "      <td>0</td>\n",
       "    </tr>\n",
       "    <tr>\n",
       "      <th>4</th>\n",
       "      <td>5.0</td>\n",
       "      <td>-1</td>\n",
       "      <td>1</td>\n",
       "      <td>1</td>\n",
       "      <td>0</td>\n",
       "      <td>-1</td>\n",
       "    </tr>\n",
       "    <tr>\n",
       "      <th>5</th>\n",
       "      <td>9.0</td>\n",
       "      <td>0</td>\n",
       "      <td>0</td>\n",
       "      <td>-1</td>\n",
       "      <td>-1</td>\n",
       "      <td>-1</td>\n",
       "    </tr>\n",
       "    <tr>\n",
       "      <th>6</th>\n",
       "      <td>11.0</td>\n",
       "      <td>-1</td>\n",
       "      <td>-2</td>\n",
       "      <td>-3</td>\n",
       "      <td>-3</td>\n",
       "      <td>-2</td>\n",
       "    </tr>\n",
       "    <tr>\n",
       "      <th>7</th>\n",
       "      <td>12.0</td>\n",
       "      <td>1</td>\n",
       "      <td>-2</td>\n",
       "      <td>0</td>\n",
       "      <td>-2</td>\n",
       "      <td>0</td>\n",
       "    </tr>\n",
       "    <tr>\n",
       "      <th>8</th>\n",
       "      <td>14.0</td>\n",
       "      <td>1</td>\n",
       "      <td>1</td>\n",
       "      <td>1</td>\n",
       "      <td>1</td>\n",
       "      <td>1</td>\n",
       "    </tr>\n",
       "    <tr>\n",
       "      <th>9</th>\n",
       "      <td>15.0</td>\n",
       "      <td>1</td>\n",
       "      <td>1</td>\n",
       "      <td>2</td>\n",
       "      <td>1</td>\n",
       "      <td>1</td>\n",
       "    </tr>\n",
       "    <tr>\n",
       "      <th>10</th>\n",
       "      <td>16.0</td>\n",
       "      <td>1</td>\n",
       "      <td>1</td>\n",
       "      <td>1</td>\n",
       "      <td>-1</td>\n",
       "      <td>1</td>\n",
       "    </tr>\n",
       "    <tr>\n",
       "      <th>11</th>\n",
       "      <td>19.0</td>\n",
       "      <td>1</td>\n",
       "      <td>1</td>\n",
       "      <td>1</td>\n",
       "      <td>1</td>\n",
       "      <td>1</td>\n",
       "    </tr>\n",
       "    <tr>\n",
       "      <th>12</th>\n",
       "      <td>21.0</td>\n",
       "      <td>1</td>\n",
       "      <td>1</td>\n",
       "      <td>1</td>\n",
       "      <td>1</td>\n",
       "      <td>1</td>\n",
       "    </tr>\n",
       "    <tr>\n",
       "      <th>13</th>\n",
       "      <td>22.0</td>\n",
       "      <td>1</td>\n",
       "      <td>1</td>\n",
       "      <td>1</td>\n",
       "      <td>1</td>\n",
       "      <td>1</td>\n",
       "    </tr>\n",
       "    <tr>\n",
       "      <th>14</th>\n",
       "      <td>23.0</td>\n",
       "      <td>1</td>\n",
       "      <td>1</td>\n",
       "      <td>1</td>\n",
       "      <td>-2</td>\n",
       "      <td>1</td>\n",
       "    </tr>\n",
       "    <tr>\n",
       "      <th>15</th>\n",
       "      <td>24.0</td>\n",
       "      <td>1</td>\n",
       "      <td>1</td>\n",
       "      <td>1</td>\n",
       "      <td>1</td>\n",
       "      <td>1</td>\n",
       "    </tr>\n",
       "    <tr>\n",
       "      <th>16</th>\n",
       "      <td>25.0</td>\n",
       "      <td>-1</td>\n",
       "      <td>1</td>\n",
       "      <td>1</td>\n",
       "      <td>-2</td>\n",
       "      <td>1</td>\n",
       "    </tr>\n",
       "    <tr>\n",
       "      <th>17</th>\n",
       "      <td>26.0</td>\n",
       "      <td>1</td>\n",
       "      <td>1</td>\n",
       "      <td>1</td>\n",
       "      <td>1</td>\n",
       "      <td>1</td>\n",
       "    </tr>\n",
       "    <tr>\n",
       "      <th>18</th>\n",
       "      <td>27.0</td>\n",
       "      <td>0</td>\n",
       "      <td>1</td>\n",
       "      <td>0</td>\n",
       "      <td>0</td>\n",
       "      <td>0</td>\n",
       "    </tr>\n",
       "    <tr>\n",
       "      <th>19</th>\n",
       "      <td>28.0</td>\n",
       "      <td>0</td>\n",
       "      <td>0</td>\n",
       "      <td>-2</td>\n",
       "      <td>0</td>\n",
       "      <td>0</td>\n",
       "    </tr>\n",
       "    <tr>\n",
       "      <th>20</th>\n",
       "      <td>29.0</td>\n",
       "      <td>1</td>\n",
       "      <td>1</td>\n",
       "      <td>1</td>\n",
       "      <td>1</td>\n",
       "      <td>1</td>\n",
       "    </tr>\n",
       "    <tr>\n",
       "      <th>21</th>\n",
       "      <td>31.0</td>\n",
       "      <td>-1</td>\n",
       "      <td>1</td>\n",
       "      <td>-2</td>\n",
       "      <td>-2</td>\n",
       "      <td>-2</td>\n",
       "    </tr>\n",
       "    <tr>\n",
       "      <th>22</th>\n",
       "      <td>32.0</td>\n",
       "      <td>1</td>\n",
       "      <td>1</td>\n",
       "      <td>1</td>\n",
       "      <td>1</td>\n",
       "      <td>1</td>\n",
       "    </tr>\n",
       "    <tr>\n",
       "      <th>23</th>\n",
       "      <td>33.0</td>\n",
       "      <td>2</td>\n",
       "      <td>-2</td>\n",
       "      <td>-3</td>\n",
       "      <td>-3</td>\n",
       "      <td>-3</td>\n",
       "    </tr>\n",
       "    <tr>\n",
       "      <th>24</th>\n",
       "      <td>34.0</td>\n",
       "      <td>-2</td>\n",
       "      <td>-2</td>\n",
       "      <td>-3</td>\n",
       "      <td>-3</td>\n",
       "      <td>-2</td>\n",
       "    </tr>\n",
       "    <tr>\n",
       "      <th>25</th>\n",
       "      <td>35.0</td>\n",
       "      <td>-2</td>\n",
       "      <td>0</td>\n",
       "      <td>-3</td>\n",
       "      <td>-2</td>\n",
       "      <td>-2</td>\n",
       "    </tr>\n",
       "    <tr>\n",
       "      <th>26</th>\n",
       "      <td>36.0</td>\n",
       "      <td>1</td>\n",
       "      <td>1</td>\n",
       "      <td>1</td>\n",
       "      <td>1</td>\n",
       "      <td>1</td>\n",
       "    </tr>\n",
       "    <tr>\n",
       "      <th>27</th>\n",
       "      <td>38.0</td>\n",
       "      <td>0</td>\n",
       "      <td>-1</td>\n",
       "      <td>0</td>\n",
       "      <td>0</td>\n",
       "      <td>0</td>\n",
       "    </tr>\n",
       "    <tr>\n",
       "      <th>28</th>\n",
       "      <td>39.0</td>\n",
       "      <td>1</td>\n",
       "      <td>1</td>\n",
       "      <td>1</td>\n",
       "      <td>1</td>\n",
       "      <td>1</td>\n",
       "    </tr>\n",
       "    <tr>\n",
       "      <th>29</th>\n",
       "      <td>40.0</td>\n",
       "      <td>-1</td>\n",
       "      <td>-1</td>\n",
       "      <td>-2</td>\n",
       "      <td>-1</td>\n",
       "      <td>-1</td>\n",
       "    </tr>\n",
       "    <tr>\n",
       "      <th>30</th>\n",
       "      <td>41.0</td>\n",
       "      <td>1</td>\n",
       "      <td>1</td>\n",
       "      <td>1</td>\n",
       "      <td>1</td>\n",
       "      <td>1</td>\n",
       "    </tr>\n",
       "    <tr>\n",
       "      <th>31</th>\n",
       "      <td>43.0</td>\n",
       "      <td>1</td>\n",
       "      <td>1</td>\n",
       "      <td>1</td>\n",
       "      <td>1</td>\n",
       "      <td>1</td>\n",
       "    </tr>\n",
       "  </tbody>\n",
       "</table>\n",
       "</div>"
      ],
      "text/plain": [
       "      ID November 2016 December 2016 January 2017 February 2017 March 2017\n",
       "1    1.0             3             1            0             1          1\n",
       "2    2.0            -1             1            1            -1         -1\n",
       "3    4.0             0             0           -2             0          0\n",
       "4    5.0            -1             1            1             0         -1\n",
       "5    9.0             0             0           -1            -1         -1\n",
       "6   11.0            -1            -2           -3            -3         -2\n",
       "7   12.0             1            -2            0            -2          0\n",
       "8   14.0             1             1            1             1          1\n",
       "9   15.0             1             1            2             1          1\n",
       "10  16.0             1             1            1            -1          1\n",
       "11  19.0             1             1            1             1          1\n",
       "12  21.0             1             1            1             1          1\n",
       "13  22.0             1             1            1             1          1\n",
       "14  23.0             1             1            1            -2          1\n",
       "15  24.0             1             1            1             1          1\n",
       "16  25.0            -1             1            1            -2          1\n",
       "17  26.0             1             1            1             1          1\n",
       "18  27.0             0             1            0             0          0\n",
       "19  28.0             0             0           -2             0          0\n",
       "20  29.0             1             1            1             1          1\n",
       "21  31.0            -1             1           -2            -2         -2\n",
       "22  32.0             1             1            1             1          1\n",
       "23  33.0             2            -2           -3            -3         -3\n",
       "24  34.0            -2            -2           -3            -3         -2\n",
       "25  35.0            -2             0           -3            -2         -2\n",
       "26  36.0             1             1            1             1          1\n",
       "27  38.0             0            -1            0             0          0\n",
       "28  39.0             1             1            1             1          1\n",
       "29  40.0            -1            -1           -2            -1         -1\n",
       "30  41.0             1             1            1             1          1\n",
       "31  43.0             1             1            1             1          1"
      ]
     },
     "execution_count": 29,
     "metadata": {},
     "output_type": "execute_result"
    }
   ],
   "source": [
    "tsv_17 = pmv_17[[\"ID\", \"November16-TSV\", \"December16-TSV\", \"January17-TSV\", \"February17-TSV\", \"March17-TSV\"]]\n",
    "tsv_17.rename(columns = {\"November16-TSV\": \"November 2016\", \"December16-TSV\": \"December 2016\", \"January17-TSV\": \"January 2017\", \n",
    "              \"February17-TSV\": \"February 2017\", \"March17-TSV\": \"March 2017\"})"
   ]
  },
  {
   "cell_type": "code",
   "execution_count": null,
   "metadata": {},
   "outputs": [],
   "source": [
    "tsv_17_march = tsv_17[[\"ID\", \"March17-TSV\"]]\n",
    "tsv_17_march[\"ID\"] = tsv_17_march[\"ID\"].astype(int)"
   ]
  },
  {
   "cell_type": "code",
   "execution_count": 477,
   "metadata": {},
   "outputs": [
    {
     "name": "stderr",
     "output_type": "stream",
     "text": [
      "/Users/aikaterinikatsarou/anaconda3/lib/python3.6/site-packages/ipykernel_launcher.py:1: SettingWithCopyWarning: \n",
      "A value is trying to be set on a copy of a slice from a DataFrame.\n",
      "Try using .loc[row_indexer,col_indexer] = value instead\n",
      "\n",
      "See the caveats in the documentation: http://pandas.pydata.org/pandas-docs/stable/indexing.html#indexing-view-versus-copy\n",
      "  \"\"\"Entry point for launching an IPython kernel.\n"
     ]
    }
   ],
   "source": [
    "tsv_18_march[\"ID\"] = 'ID' + tsv_18_march[\"ID\"].astype(str)\n",
    "#tsv_16_november.set_index(\"ID\")"
   ]
  },
  {
   "cell_type": "code",
   "execution_count": 478,
   "metadata": {},
   "outputs": [],
   "source": [
    "tsv_18_march = tsv_18_march.T"
   ]
  },
  {
   "cell_type": "code",
   "execution_count": 479,
   "metadata": {},
   "outputs": [],
   "source": [
    "tsv_18_march.columns = tsv_18_march.iloc[0]"
   ]
  },
  {
   "cell_type": "code",
   "execution_count": 481,
   "metadata": {},
   "outputs": [],
   "source": [
    "tsv_18_march = tsv_18_march.drop(\"ID\")"
   ]
  },
  {
   "cell_type": "code",
   "execution_count": 502,
   "metadata": {},
   "outputs": [
    {
     "name": "stderr",
     "output_type": "stream",
     "text": [
      "/Users/aikaterinikatsarou/anaconda3/lib/python3.6/site-packages/ipykernel_launcher.py:1: FutureWarning: Sorting because non-concatenation axis is not aligned. A future version\n",
      "of pandas will change to not sort by default.\n",
      "\n",
      "To accept the future behavior, pass 'sort=False'.\n",
      "\n",
      "To retain the current behavior and silence the warning, pass 'sort=True'.\n",
      "\n",
      "  \"\"\"Entry point for launching an IPython kernel.\n"
     ]
    }
   ],
   "source": [
    "x_mar18 = pd.concat([x_mar18, tsv_18_march], axis=0)"
   ]
  },
  {
   "cell_type": "code",
   "execution_count": 504,
   "metadata": {},
   "outputs": [],
   "source": [
    "x_mar18 = x_mar18.dropna(axis=1)"
   ]
  },
  {
   "cell_type": "code",
   "execution_count": 486,
   "metadata": {},
   "outputs": [],
   "source": [
    "x_mar18 = x_mar18.reset_index().drop(\"index\", axis=1)"
   ]
  },
  {
   "cell_type": "code",
   "execution_count": 506,
   "metadata": {},
   "outputs": [],
   "source": [
    "x_mar18.to_csv( \"x_mar18.csv\", index=False, encoding='utf-8-sig')"
   ]
  },
  {
   "cell_type": "code",
   "execution_count": 52,
   "metadata": {},
   "outputs": [],
   "source": [
    "lr_df = lr_df[lr_df[\"Timestamp\"].notna()]"
   ]
  },
  {
   "cell_type": "code",
   "execution_count": 53,
   "metadata": {},
   "outputs": [],
   "source": [
    "lr_df2 = lr_df.copy()\n",
    "\n",
    "y = lr_df2.loc[:, \"ID1\":\"ID43\"]\n",
    "y = y.astype(str).astype(float)\n",
    "y = y.fillna(y.mean())\n",
    "\n",
    "y = pd.concat((lr_df2.Timestamp, y), axis = 1)"
   ]
  },
  {
   "cell_type": "code",
   "execution_count": 489,
   "metadata": {},
   "outputs": [],
   "source": [
    "y_mar18 = y[y[\"Timestamp\"].str.contains(\"03/2018\")]"
   ]
  },
  {
   "cell_type": "code",
   "execution_count": 491,
   "metadata": {},
   "outputs": [],
   "source": [
    "y_mar18 = y_mar18.reset_index()"
   ]
  },
  {
   "cell_type": "code",
   "execution_count": 492,
   "metadata": {},
   "outputs": [],
   "source": [
    "y_mar18 = y_mar18.drop([\"index\"], axis=1)"
   ]
  },
  {
   "cell_type": "code",
   "execution_count": 56,
   "metadata": {},
   "outputs": [],
   "source": [
    "tsv_16_november.columns= tsv_16_november.iloc[0]"
   ]
  },
  {
   "cell_type": "code",
   "execution_count": 494,
   "metadata": {},
   "outputs": [
    {
     "name": "stderr",
     "output_type": "stream",
     "text": [
      "/Users/aikaterinikatsarou/anaconda3/lib/python3.6/site-packages/ipykernel_launcher.py:1: FutureWarning: Sorting because non-concatenation axis is not aligned. A future version\n",
      "of pandas will change to not sort by default.\n",
      "\n",
      "To accept the future behavior, pass 'sort=False'.\n",
      "\n",
      "To retain the current behavior and silence the warning, pass 'sort=True'.\n",
      "\n",
      "  \"\"\"Entry point for launching an IPython kernel.\n"
     ]
    }
   ],
   "source": [
    "y_mar18 = pd.concat([y_mar18, tsv_18_march], axis=0)"
   ]
  },
  {
   "cell_type": "code",
   "execution_count": 496,
   "metadata": {},
   "outputs": [],
   "source": [
    "y_mar18 = y_mar18.dropna(axis=1)"
   ]
  },
  {
   "cell_type": "code",
   "execution_count": 90,
   "metadata": {},
   "outputs": [],
   "source": [
    "x_nov16 = x_nov16.T\n",
    "y_nov16 = y_nov16.T"
   ]
  },
  {
   "cell_type": "code",
   "execution_count": 507,
   "metadata": {},
   "outputs": [
    {
     "name": "stderr",
     "output_type": "stream",
     "text": [
      "/Users/aikaterinikatsarou/anaconda3/lib/python3.6/site-packages/ipykernel_launcher.py:1: FutureWarning: Sorting because non-concatenation axis is not aligned. A future version\n",
      "of pandas will change to not sort by default.\n",
      "\n",
      "To accept the future behavior, pass 'sort=False'.\n",
      "\n",
      "To retain the current behavior and silence the warning, pass 'sort=True'.\n",
      "\n",
      "  \"\"\"Entry point for launching an IPython kernel.\n"
     ]
    }
   ],
   "source": [
    "mar18 = pd.concat([x_mar18, y_mar18], axis=1)"
   ]
  },
  {
   "cell_type": "code",
   "execution_count": 471,
   "metadata": {},
   "outputs": [],
   "source": [
    "feb18 = feb18.iloc[0:449]"
   ]
  },
  {
   "cell_type": "code",
   "execution_count": 509,
   "metadata": {},
   "outputs": [],
   "source": [
    "mar18 = mar18.fillna(0)"
   ]
  },
  {
   "cell_type": "code",
   "execution_count": 470,
   "metadata": {},
   "outputs": [],
   "source": [
    "feb18.iloc[448] = feb18.iloc[448].astype(float) + feb18.loc[\"February18-TSV\"].astype(float)"
   ]
  },
  {
   "cell_type": "code",
   "execution_count": 395,
   "metadata": {},
   "outputs": [],
   "source": [
    "dec17 = dec17.iloc[0:497]"
   ]
  },
  {
   "cell_type": "code",
   "execution_count": 511,
   "metadata": {},
   "outputs": [],
   "source": [
    "mar18.to_csv( \"mar18.csv\", index=False, encoding='utf-8-sig')"
   ]
  },
  {
   "cell_type": "code",
   "execution_count": 175,
   "metadata": {},
   "outputs": [
    {
     "name": "stderr",
     "output_type": "stream",
     "text": [
      "/Users/aikaterinikatsarou/anaconda3/lib/python3.6/site-packages/ipykernel_launcher.py:1: FutureWarning: Sorting because non-concatenation axis is not aligned. A future version\n",
      "of pandas will change to not sort by default.\n",
      "\n",
      "To accept the future behavior, pass 'sort=False'.\n",
      "\n",
      "To retain the current behavior and silence the warning, pass 'sort=True'.\n",
      "\n",
      "  \"\"\"Entry point for launching an IPython kernel.\n"
     ]
    }
   ],
   "source": [
    "jan17 = pd.concat([x_jan17, y_jan17], axis=0)"
   ]
  },
  {
   "cell_type": "code",
   "execution_count": 133,
   "metadata": {},
   "outputs": [],
   "source": [
    "nov16 = nov16.dropna(axis=1)"
   ]
  },
  {
   "cell_type": "code",
   "execution_count": 126,
   "metadata": {},
   "outputs": [],
   "source": [
    "dec16 = dec16.iloc[0:497]"
   ]
  },
  {
   "cell_type": "code",
   "execution_count": 435,
   "metadata": {},
   "outputs": [],
   "source": [
    "jan18.to_csv( \"jan18.csv\", index=False, encoding='utf-8-sig')"
   ]
  },
  {
   "cell_type": "code",
   "execution_count": null,
   "metadata": {},
   "outputs": [],
   "source": []
  }
 ],
 "metadata": {
  "kernelspec": {
   "display_name": "Python 3",
   "language": "python",
   "name": "python3"
  },
  "language_info": {
   "codemirror_mode": {
    "name": "ipython",
    "version": 3
   },
   "file_extension": ".py",
   "mimetype": "text/x-python",
   "name": "python",
   "nbconvert_exporter": "python",
   "pygments_lexer": "ipython3",
   "version": "3.6.6"
  }
 },
 "nbformat": 4,
 "nbformat_minor": 2
}
